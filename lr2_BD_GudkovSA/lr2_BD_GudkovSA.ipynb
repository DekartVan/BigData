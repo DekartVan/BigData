{
  "cells": [
    {
      "cell_type": "code",
      "execution_count": null,
      "metadata": {
        "colab": {
          "base_uri": "https://localhost:8080/"
        },
        "id": "ekfdbJiI9K8U",
        "outputId": "fefbcf3c-cf82-46dc-ebfe-a8f089932267"
      },
      "outputs": [
        {
          "output_type": "stream",
          "name": "stdout",
          "text": [
            "Requirement already satisfied: pyspark in /usr/local/lib/python3.10/dist-packages (3.5.0)\n",
            "Requirement already satisfied: py4j==0.10.9.7 in /usr/local/lib/python3.10/dist-packages (from pyspark) (0.10.9.7)\n"
          ]
        }
      ],
      "source": [
        "# устанавим pyspark и добавим необходимые библиотеки\n",
        "!pip install pyspark"
      ]
    },
    {
      "cell_type": "code",
      "execution_count": null,
      "metadata": {
        "id": "kD3eqdiBSFU3"
      },
      "outputs": [],
      "source": [
        "# Импортирую библиотеки\n",
        "import pyspark\n",
        "import os\n",
        "from datetime import datetime\n",
        "from pyspark.sql.functions import col\n",
        "from pyspark.sql import SparkSession\n",
        "from pyspark import SparkContext, SparkConf\n",
        "from pyspark.sql.types import StructType, StructField, StringType, DateType"
      ]
    },
    {
      "cell_type": "code",
      "execution_count": null,
      "metadata": {
        "colab": {
          "base_uri": "https://localhost:8080/"
        },
        "id": "G-hM-YbyRw36",
        "outputId": "b59641b2-0e15-4071-c6de-4a1818d1fcd1"
      },
      "outputs": [
        {
          "output_type": "stream",
          "name": "stdout",
          "text": [
            "Drive already mounted at /content/drive; to attempt to forcibly remount, call drive.mount(\"/content/drive\", force_remount=True).\n"
          ]
        }
      ],
      "source": [
        "# Добавим гугд диск\n",
        "from google.colab import drive\n",
        "drive.mount('/content/drive')"
      ]
    },
    {
      "cell_type": "code",
      "execution_count": null,
      "metadata": {
        "id": "qRqdT42IRxOp",
        "colab": {
          "base_uri": "https://localhost:8080/",
          "height": 221
        },
        "outputId": "7cf1c7b7-ae66-45d0-ec32-5f45f7b59024"
      },
      "outputs": [
        {
          "output_type": "execute_result",
          "data": {
            "text/plain": [
              "<pyspark.sql.session.SparkSession at 0x7e82bd016830>"
            ],
            "text/html": [
              "\n",
              "            <div>\n",
              "                <p><b>SparkSession - in-memory</b></p>\n",
              "                \n",
              "        <div>\n",
              "            <p><b>SparkContext</b></p>\n",
              "\n",
              "            <p><a href=\"http://29ca2770dbe4:4040\">Spark UI</a></p>\n",
              "\n",
              "            <dl>\n",
              "              <dt>Version</dt>\n",
              "                <dd><code>v3.5.0</code></dd>\n",
              "              <dt>Master</dt>\n",
              "                <dd><code>local[*]</code></dd>\n",
              "              <dt>AppName</dt>\n",
              "                <dd><code>pyspark-shell</code></dd>\n",
              "            </dl>\n",
              "        </div>\n",
              "        \n",
              "            </div>\n",
              "        "
            ]
          },
          "metadata": {},
          "execution_count": 20
        }
      ],
      "source": [
        "# Создание точки конфигурации\n",
        "os.environ['PYSPARK_SUBMIT_ARGS'] = '--packages com.databricks:spark-xml_2.12:0.13.0 pyspark-shell'\n",
        "sc = SparkSession.builder.appName(\"L2\").master(\"local[*]\").getOrCreate()\n",
        "# Проверка установки\n",
        "sc"
      ]
    },
    {
      "cell_type": "code",
      "source": [
        "programming_languages_list = sc.read.csv(\"/content/drive/MyDrive/BigData/My_work/LR2/Data/programming-languages.csv\")\n",
        "posts_sample = sc.read.format(\"xml\").options(rowTag=\"row\").load('/content/drive/MyDrive/BigData/My_work/LR2/Data/posts_sample.xml')"
      ],
      "metadata": {
        "id": "uwfyaEp1Tvhm"
      },
      "execution_count": null,
      "outputs": []
    },
    {
      "cell_type": "code",
      "source": [
        "programming_languages = [str(x[0]) for x in programming_languages_list.collect()]\n",
        "programming_languages.pop(0) # Удалил первый элемент: name\n",
        "programming_languages[:5]"
      ],
      "metadata": {
        "colab": {
          "base_uri": "https://localhost:8080/"
        },
        "id": "GntPzhXzfRzW",
        "outputId": "fcf2b286-e601-4ebe-fd94-37a851c6df49"
      },
      "execution_count": null,
      "outputs": [
        {
          "output_type": "execute_result",
          "data": {
            "text/plain": [
              "['A# .NET', 'A# (Axiom)', 'A-0 System', 'A+', 'A++']"
            ]
          },
          "metadata": {},
          "execution_count": 28
        }
      ]
    },
    {
      "cell_type": "code",
      "source": [
        "def detectionProgLanguage(x):\n",
        "    tag = next((language for language in programming_languages if \"<\" + language.lower() + \">\" in x._Tags.lower()), None)\n",
        "    return None if tag is None else (x._Id, tag)"
      ],
      "metadata": {
        "id": "pVTk-jWogORq"
      },
      "execution_count": null,
      "outputs": []
    },
    {
      "cell_type": "code",
      "source": [
        "def is_year_date(x, year):\n",
        "    start = datetime(year=year, month=1, day=1)\n",
        "    end = datetime(year=year, month=12, day=31)\n",
        "    return x._CreationDate >= start and x._CreationDate <= end"
      ],
      "metadata": {
        "id": "ikQyr04ZhlSd"
      },
      "execution_count": null,
      "outputs": []
    },
    {
      "cell_type": "code",
      "source": [
        "pl_by_year = {}\n",
        "\n",
        "for year in range(2010, 2020):\n",
        "    pl_by_year[year] = posts_sample.rdd \\\n",
        "        .filter(lambda x: x._Tags is not None and is_year_date(x, year)) \\\n",
        "        .map(detectionProgLanguage) \\\n",
        "        .filter(lambda x: x is not None) \\\n",
        "        .keyBy(lambda x: x[1]) \\\n",
        "        .aggregateByKey(0, lambda x, y: x + 1, lambda x, y: x + y) \\\n",
        "        .sortBy(lambda x: x[1], ascending=False) \\\n",
        "        .toDF()\n",
        "\n",
        "    pl_by_year[year] = pl_by_year[year] \\\n",
        "                        .select(col(\"_1\").alias(\"PL\"), col(\"_2\").alias(f\"Mentioned_in_{year}\")) \\\n",
        "                        .limit(10)\n",
        "\n",
        "    pl_by_year[year].show()"
      ],
      "metadata": {
        "colab": {
          "base_uri": "https://localhost:8080/"
        },
        "id": "CWH6l1Uohpcf",
        "outputId": "9413c844-0b75-4b7c-b695-2a5e195cfc1e"
      },
      "execution_count": null,
      "outputs": [
        {
          "output_type": "stream",
          "name": "stdout",
          "text": [
            "+-----------+-----------------+\n",
            "|         PL|Mentioned_in_2010|\n",
            "+-----------+-----------------+\n",
            "|       Java|               52|\n",
            "| JavaScript|               44|\n",
            "|        PHP|               42|\n",
            "|     Python|               25|\n",
            "|Objective-C|               22|\n",
            "|          C|               20|\n",
            "|       Ruby|               11|\n",
            "|     Delphi|                7|\n",
            "|          R|                3|\n",
            "|       Bash|                3|\n",
            "+-----------+-----------------+\n",
            "\n",
            "+-----------+-----------------+\n",
            "|         PL|Mentioned_in_2011|\n",
            "+-----------+-----------------+\n",
            "|        PHP|               97|\n",
            "|       Java|               92|\n",
            "| JavaScript|               82|\n",
            "|     Python|               35|\n",
            "|Objective-C|               33|\n",
            "|          C|               24|\n",
            "|       Ruby|               17|\n",
            "|     Delphi|                8|\n",
            "|       Perl|                8|\n",
            "|       Bash|                7|\n",
            "+-----------+-----------------+\n",
            "\n",
            "+-----------+-----------------+\n",
            "|         PL|Mentioned_in_2012|\n",
            "+-----------+-----------------+\n",
            "|        PHP|              136|\n",
            "| JavaScript|              129|\n",
            "|       Java|              124|\n",
            "|     Python|               65|\n",
            "|Objective-C|               45|\n",
            "|          C|               27|\n",
            "|       Ruby|               25|\n",
            "|       Bash|                9|\n",
            "|          R|                9|\n",
            "|     MATLAB|                6|\n",
            "+-----------+-----------------+\n",
            "\n",
            "+-----------+-----------------+\n",
            "|         PL|Mentioned_in_2013|\n",
            "+-----------+-----------------+\n",
            "| JavaScript|              196|\n",
            "|       Java|              191|\n",
            "|        PHP|              173|\n",
            "|     Python|               87|\n",
            "|Objective-C|               40|\n",
            "|          C|               36|\n",
            "|       Ruby|               30|\n",
            "|          R|               25|\n",
            "|       Bash|               11|\n",
            "|      Scala|               10|\n",
            "+-----------+-----------------+\n",
            "\n",
            "+-----------+-----------------+\n",
            "|         PL|Mentioned_in_2014|\n",
            "+-----------+-----------------+\n",
            "| JavaScript|              235|\n",
            "|       Java|              228|\n",
            "|        PHP|              154|\n",
            "|     Python|              103|\n",
            "|          C|               52|\n",
            "|Objective-C|               49|\n",
            "|          R|               28|\n",
            "|       Ruby|               20|\n",
            "|     MATLAB|               16|\n",
            "|       Bash|               13|\n",
            "+-----------+-----------------+\n",
            "\n",
            "+-----------+-----------------+\n",
            "|         PL|Mentioned_in_2015|\n",
            "+-----------+-----------------+\n",
            "| JavaScript|              270|\n",
            "|       Java|              208|\n",
            "|        PHP|              147|\n",
            "|     Python|              119|\n",
            "|          R|               43|\n",
            "|          C|               38|\n",
            "|Objective-C|               30|\n",
            "|       Ruby|               20|\n",
            "|     MATLAB|               16|\n",
            "|      Scala|               13|\n",
            "+-----------+-----------------+\n",
            "\n",
            "+----------+-----------------+\n",
            "|        PL|Mentioned_in_2016|\n",
            "+----------+-----------------+\n",
            "|JavaScript|              271|\n",
            "|      Java|              178|\n",
            "|    Python|              140|\n",
            "|       PHP|              126|\n",
            "|         R|               50|\n",
            "|         C|               32|\n",
            "|      Ruby|               21|\n",
            "|      Bash|               16|\n",
            "|     Scala|               16|\n",
            "|    MATLAB|               15|\n",
            "+----------+-----------------+\n",
            "\n",
            "+-----------+-----------------+\n",
            "|         PL|Mentioned_in_2017|\n",
            "+-----------+-----------------+\n",
            "| JavaScript|              244|\n",
            "|       Java|              204|\n",
            "|     Python|              185|\n",
            "|        PHP|              122|\n",
            "|          R|               53|\n",
            "|          C|               24|\n",
            "|Objective-C|               19|\n",
            "|       Ruby|               16|\n",
            "| TypeScript|               14|\n",
            "| PowerShell|               14|\n",
            "+-----------+-----------------+\n",
            "\n",
            "+----------+-----------------+\n",
            "|        PL|Mentioned_in_2018|\n",
            "+----------+-----------------+\n",
            "|    Python|              214|\n",
            "|JavaScript|              194|\n",
            "|      Java|              145|\n",
            "|       PHP|               99|\n",
            "|         R|               63|\n",
            "|         C|               24|\n",
            "|     Scala|               22|\n",
            "|TypeScript|               21|\n",
            "|PowerShell|               13|\n",
            "|      Bash|               12|\n",
            "+----------+-----------------+\n",
            "\n",
            "+----------+-----------------+\n",
            "|        PL|Mentioned_in_2019|\n",
            "+----------+-----------------+\n",
            "|    Python|              162|\n",
            "|JavaScript|              131|\n",
            "|      Java|               95|\n",
            "|       PHP|               59|\n",
            "|         R|               36|\n",
            "|         C|               14|\n",
            "|        Go|                9|\n",
            "|    MATLAB|                9|\n",
            "|      Dart|                9|\n",
            "|      Bash|                8|\n",
            "+----------+-----------------+\n",
            "\n"
          ]
        }
      ]
    },
    {
      "cell_type": "code",
      "source": [
        "for year in pl_by_year.keys():\n",
        "    save_path = f\"/content/drive/MyDrive/BigData/My_work/LR2/Data/the_best_in{year}\"\n",
        "\n",
        "    if os.path.exists(save_path):\n",
        "        print(f\"Файл {save_path} уже существует.\")\n",
        "    else:\n",
        "        pl_by_year[year].write.format(\"parquet\").save(save_path)\n",
        "        print(f\"Сохранено в файл {save_path}.\")"
      ],
      "metadata": {
        "colab": {
          "base_uri": "https://localhost:8080/"
        },
        "id": "7epNrDwNjHr2",
        "outputId": "9cdab173-ea52-4108-93e1-3919708b9b5c"
      },
      "execution_count": null,
      "outputs": [
        {
          "output_type": "stream",
          "name": "stdout",
          "text": [
            "Сохранено в файл /content/drive/MyDrive/BigData/My_work/LR2/Data/the_best_in2010.\n",
            "Сохранено в файл /content/drive/MyDrive/BigData/My_work/LR2/Data/the_best_in2011.\n",
            "Сохранено в файл /content/drive/MyDrive/BigData/My_work/LR2/Data/the_best_in2012.\n",
            "Сохранено в файл /content/drive/MyDrive/BigData/My_work/LR2/Data/the_best_in2013.\n",
            "Сохранено в файл /content/drive/MyDrive/BigData/My_work/LR2/Data/the_best_in2014.\n",
            "Сохранено в файл /content/drive/MyDrive/BigData/My_work/LR2/Data/the_best_in2015.\n",
            "Сохранено в файл /content/drive/MyDrive/BigData/My_work/LR2/Data/the_best_in2016.\n",
            "Сохранено в файл /content/drive/MyDrive/BigData/My_work/LR2/Data/the_best_in2017.\n",
            "Сохранено в файл /content/drive/MyDrive/BigData/My_work/LR2/Data/the_best_in2018.\n",
            "Сохранено в файл /content/drive/MyDrive/BigData/My_work/LR2/Data/the_best_in2019.\n"
          ]
        }
      ]
    }
  ],
  "metadata": {
    "colab": {
      "provenance": []
    },
    "kernelspec": {
      "display_name": "Python 3",
      "name": "python3"
    },
    "language_info": {
      "name": "python"
    }
  },
  "nbformat": 4,
  "nbformat_minor": 0
}